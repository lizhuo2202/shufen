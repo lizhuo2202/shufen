{
 "cells": [
  {
   "cell_type": "code",
   "execution_count": 78,
   "id": "8970cf63-9e63-426b-8869-315766f830f3",
   "metadata": {},
   "outputs": [],
   "source": [
    "import numpy as np\n",
    "# numpy 是pandas的基础，功能强大，运算快"
   ]
  },
  {
   "cell_type": "code",
   "execution_count": 4,
   "id": "bdc7a954-d91b-4413-b5bd-0e736cba1ba5",
   "metadata": {},
   "outputs": [
    {
     "name": "stdout",
     "output_type": "stream",
     "text": [
      "<class 'list'>\n",
      "[1, 2, 3]\n"
     ]
    }
   ],
   "source": [
    "import numpy as np\n",
    "list1=[1,2,3]\n",
    "print(type(list1))\n",
    "print(list1)\n"
   ]
  },
  {
   "cell_type": "code",
   "execution_count": 5,
   "id": "2f3a5306-228f-4332-bffa-10bb7c1b70a3",
   "metadata": {},
   "outputs": [
    {
     "name": "stdout",
     "output_type": "stream",
     "text": [
      "<class 'numpy.ndarray'>\n",
      "[1 2 3]\n"
     ]
    }
   ],
   "source": [
    "arr1=np.array(list1)\n",
    "print(type(arr1))\n",
    "print(arr1)"
   ]
  },
  {
   "cell_type": "code",
   "execution_count": 9,
   "id": "d7c049b2-bc5d-4c07-86e6-f68eec64fb9e",
   "metadata": {},
   "outputs": [
    {
     "data": {
      "text/plain": [
       "array([1, 2, 3])"
      ]
     },
     "execution_count": 9,
     "metadata": {},
     "output_type": "execute_result"
    }
   ],
   "source": [
    "arr2=np.array(object=[1,2,3])#命名传参\n",
    "arr2"
   ]
  },
  {
   "cell_type": "code",
   "execution_count": 10,
   "id": "1da2fb1a-e81f-4c19-8504-628c39fd7c40",
   "metadata": {},
   "outputs": [
    {
     "data": {
      "text/plain": [
       "array([[1, 2, 3],\n",
       "       [4, 5, 6]])"
      ]
     },
     "execution_count": 10,
     "metadata": {},
     "output_type": "execute_result"
    }
   ],
   "source": [
    "arr3=np.array([[1,2,3],[4,5,6]])#位置传递传参\n",
    "arr3"
   ]
  },
  {
   "cell_type": "code",
   "execution_count": 12,
   "id": "3d6b973f-2f21-493d-8e0a-6506202fb2c6",
   "metadata": {},
   "outputs": [
    {
     "data": {
      "text/plain": [
       "array([1., 2., 3.])"
      ]
     },
     "execution_count": 12,
     "metadata": {},
     "output_type": "execute_result"
    }
   ],
   "source": [
    "arr4=np.array([1,2,3],dtype=float)\n",
    "arr4"
   ]
  },
  {
   "cell_type": "code",
   "execution_count": 21,
   "id": "9d8c5b24-cb6a-48cb-ae22-8c4d41f9078d",
   "metadata": {},
   "outputs": [
    {
     "name": "stdout",
     "output_type": "stream",
     "text": [
      "[1 2 3]\n",
      "[1 2 3]\n",
      "[[1 2 3]]\n",
      "[[[1 2 3]]]\n"
     ]
    }
   ],
   "source": [
    "arr5 = np.array([1.1,2.1,3.1],dtype=int,ndmin=0)\n",
    "print(arr5)\n",
    "arr6 = np.array([1.1,2.1,3.1],dtype=int,ndmin=1)\n",
    "print(arr6)\n",
    "arr7 = np.array([1.1,2.1,3.1],dtype=int,ndmin=2)#创建二维数组\n",
    "print(arr7)\n",
    "arr8 = np.array([1.1,2.1,3.1],dtype=int,ndmin=3)#创建三维数组\n",
    "print(arr8)"
   ]
  },
  {
   "cell_type": "code",
   "execution_count": 23,
   "id": "22273fff-0555-480b-955d-1cbf436f303a",
   "metadata": {},
   "outputs": [
    {
     "data": {
      "text/plain": [
       "array([[1, 2, 3]])"
      ]
     },
     "execution_count": 23,
     "metadata": {},
     "output_type": "execute_result"
    }
   ],
   "source": [
    "arr9 =np.array(arr7)\n",
    "arr7[0][1]=0\n",
    "arr9"
   ]
  },
  {
   "cell_type": "code",
   "execution_count": 27,
   "id": "ea95374a-c792-4121-961a-19c5b178c153",
   "metadata": {},
   "outputs": [
    {
     "name": "stdout",
     "output_type": "stream",
     "text": [
      "[[[1 2 4]]]\n",
      "[[[1 2 4]]]\n"
     ]
    }
   ],
   "source": [
    "arr10 =np.array(arr8,copy=False)\n",
    "arr8[0][0][2]=4\n",
    "print(arr10)\n",
    "print(arr8)"
   ]
  },
  {
   "cell_type": "code",
   "execution_count": 29,
   "id": "e50fa652-19aa-4656-abb7-f1571ca3a163",
   "metadata": {},
   "outputs": [
    {
     "data": {
      "text/plain": [
       "array([0, 1, 2, 3, 4, 5])"
      ]
     },
     "execution_count": 29,
     "metadata": {},
     "output_type": "execute_result"
    }
   ],
   "source": [
    "#np.arange(start,stop,step,dtype)\n",
    "#start起始值默认为0；stop终止值（不包含）；step步长（默认为1），dtype返回ndarray的数据类型（没有，则返回输入的类型）\n",
    "a1=np.arange(0,6,1,dtype=int)\n",
    "a1"
   ]
  },
  {
   "cell_type": "code",
   "execution_count": 37,
   "id": "e73ba788-2eab-4bbf-99fe-82667581dbb1",
   "metadata": {},
   "outputs": [
    {
     "data": {
      "text/plain": [
       "array([0.11602019, 0.56728562, 0.88527707])"
      ]
     },
     "execution_count": 37,
     "metadata": {},
     "output_type": "execute_result"
    }
   ],
   "source": [
    "#使用random创建随机数数组\n",
    "ar = np.random.random(size=3)#创建3个0到1的浮点数（包前不包后，不会产生1，但能产生0）\n",
    "ar"
   ]
  },
  {
   "cell_type": "code",
   "execution_count": 36,
   "id": "c9c41137-3aa0-4897-988d-5025d4b0a1a2",
   "metadata": {},
   "outputs": [
    {
     "name": "stdout",
     "output_type": "stream",
     "text": [
      "[[0.77803994 0.22296891 0.00262313]\n",
      " [0.32913817 0.57224986 0.55562607]]\n",
      "[[7 2 0]\n",
      " [3 5 5]]\n"
     ]
    }
   ],
   "source": [
    "ar1 = np.random.random(size=(2,3))#创建两行三列随机数数组\n",
    "print(ar1)\n",
    "print((ar1*10).astype(int))#设定类型为int，范围为1到10"
   ]
  },
  {
   "cell_type": "code",
   "execution_count": 43,
   "id": "1cd93b7f-4355-4596-9555-cf3ffebc36be",
   "metadata": {},
   "outputs": [
    {
     "data": {
      "text/plain": [
       "array([1, 3, 2, 3, 1, 3])"
      ]
     },
     "execution_count": 43,
     "metadata": {},
     "output_type": "execute_result"
    }
   ],
   "source": [
    "#生成指定范围的整数随机数数组\n",
    "ar2 = np.random.randint(1,4,6)#生成6个1到3的随机数\n",
    "ar2"
   ]
  },
  {
   "cell_type": "code",
   "execution_count": 108,
   "id": "c7bbc622-2ed7-45da-8708-55f57de90743",
   "metadata": {},
   "outputs": [
    {
     "name": "stdout",
     "output_type": "stream",
     "text": [
      "[4 1]\n",
      "[0.979445   0.08982104 0.39673661 0.35413804 0.486638   0.99082093\n",
      " 0.80828168 0.64945888]\n"
     ]
    }
   ],
   "source": [
    "#随机数种子seed,为0则每次运行随机数不变\n",
    "np.random.seed(5)\n",
    "print(np.random.randint(1,6,2))\n",
    "print(np.random.random(size=8))\n",
    "\n",
    "# np.random.seed(0)\n",
    "# print(np.random.randint(1,4,2))\n"
   ]
  },
  {
   "cell_type": "code",
   "execution_count": 109,
   "id": "085927ca-309f-4dcf-9337-781c017ca3da",
   "metadata": {},
   "outputs": [
    {
     "name": "stdout",
     "output_type": "stream",
     "text": [
      "(5,)\n",
      "(2, 3)\n",
      "5\n",
      "int32\n",
      "1\n"
     ]
    }
   ],
   "source": [
    "a1 = np.random.randint(1,10,5)\n",
    "a2 = np.random.randint(1,10,size=(2,3))\n",
    "print(a1.shape)#形状\n",
    "print(a2.shape)#形状\n",
    "\n",
    "print(a1.size)#大小\n",
    "print(a1.dtype)#类型\n",
    "print(a1.ndim)#几维数组"
   ]
  },
  {
   "cell_type": "code",
   "execution_count": 121,
   "id": "08e77653-31a4-40ec-8811-0e10047ff941",
   "metadata": {},
   "outputs": [
    {
     "name": "stdout",
     "output_type": "stream",
     "text": [
      "[5 6 1 4 4 4 2 4]\n",
      "[5 6 1 4 4 4 2 4]\n",
      "[6 1 4]\n",
      "[5 1 4 2]\n"
     ]
    }
   ],
   "source": [
    "#切片\n",
    "np.random.seed(0)\n",
    "a3 = np.random.randint(1,8,8)\n",
    "print(a3)\n",
    "print(a3[:])\n",
    "print(a3[1:4])\n",
    "print(a3[0::2])#起始终点步长\n"
   ]
  },
  {
   "cell_type": "code",
   "execution_count": 124,
   "id": "1c29f894-7c23-4fe9-8ad8-431bc6a625e9",
   "metadata": {},
   "outputs": [
    {
     "name": "stdout",
     "output_type": "stream",
     "text": [
      "[[5 6 1]\n",
      " [4 4 4]]\n",
      "[[   5    6 1000]\n",
      " [   4    4    4]]\n"
     ]
    }
   ],
   "source": [
    "np.random.seed(0)\n",
    "a4 = np.random.randint(1,8,size=(2,3))\n",
    "print(a4)\n",
    "a4[0][2]=1000\n",
    "print(a4)\n"
   ]
  },
  {
   "cell_type": "code",
   "execution_count": 135,
   "id": "7d23381b-8f55-4170-a854-32b0ca7d486b",
   "metadata": {},
   "outputs": [
    {
     "name": "stdout",
     "output_type": "stream",
     "text": [
      "[ 0  1  2  3  4  5  6  7  8  9 10 11 12 13 14 15 16 17 18 19 20 21 22 23]\n",
      "[[[ 0  1  2  3]\n",
      "  [ 4  5  6  7]\n",
      "  [ 8  9 10 11]]\n",
      "\n",
      " [[12 13 14 15]\n",
      "  [16 17 18 19]\n",
      "  [20 21 22 23]]]\n"
     ]
    }
   ],
   "source": [
    "#对数组进行升维和降维\n",
    "num = np.arange(24)\n",
    "print(num)\n",
    "num1 = num.reshape(2,3,4)#需要计算\n",
    "\n",
    "# reshape的三个参数：\n",
    "# 第一个：将大盒子分成2块\n",
    "# 第二个：将每一块分成三份\n",
    "# 第三个：每一份有4个\n",
    "# （需要计算，不能随便写）\n",
    "\n",
    "print(num1)"
   ]
  },
  {
   "cell_type": "code",
   "execution_count": 134,
   "id": "4d40619a-2dd2-4a99-b113-3325e369b888",
   "metadata": {},
   "outputs": [
    {
     "name": "stdout",
     "output_type": "stream",
     "text": [
      "[ 0  1  2  3  4  5  6  7  8  9 10 11 12 13 14 15 16 17 18 19 20 21 22 23]\n"
     ]
    }
   ],
   "source": [
    "#降维操作\n",
    "num2 = num1.reshape(-1)\n",
    "print(num2)\n"
   ]
  },
  {
   "cell_type": "code",
   "execution_count": 147,
   "id": "42b4cd49-2393-481e-b517-06355056f261",
   "metadata": {},
   "outputs": [
    {
     "name": "stdout",
     "output_type": "stream",
     "text": [
      "[0 1 2 3 4 5]\n",
      "--------------\n",
      "[[1 2 3]\n",
      " [4 5 6]]\n",
      "[[10 20 30]\n",
      " [40 50 60]]\n",
      "[[ 1  2  3]\n",
      " [ 4  5  6]\n",
      " [10 20 30]\n",
      " [40 50 60]]\n",
      "[[ 1  2  3 10 20 30]\n",
      " [ 4  5  6 40 50 60]]\n",
      "--------------\n",
      "[[ 1  2  3]\n",
      " [ 4  5  6]\n",
      " [10 20 30]\n",
      " [40 50 60]]\n",
      "[[ 1  2  3 10 20 30]\n",
      " [ 4  5  6 40 50 60]]\n"
     ]
    }
   ],
   "source": [
    "#数组的拼接\n",
    "x1 = np.arange(3)\n",
    "y1 = np.arange(3,6)\n",
    "print(np.concatenate([x1,y1]))\n",
    "print(\"--------------\")\n",
    "x = np.array([[1,2,3],[4,5,6]])\n",
    "y = np.array([[10,20,30],[40,50,60]])\n",
    "print(x)\n",
    "print(y)\n",
    "print(np.concatenate([x,y]))#直接竖向拼接\n",
    "print(np.concatenate([x,y],axis=1))#横向拼接\n",
    "print(\"--------------\")\n",
    "print(np.vstack([x,y]))#直接竖向拼接\n",
    "print(np.hstack([x,y]))#横向拼接"
   ]
  },
  {
   "cell_type": "code",
   "execution_count": 152,
   "id": "eede264b-260c-4c78-9977-e14513198067",
   "metadata": {},
   "outputs": [
    {
     "name": "stdout",
     "output_type": "stream",
     "text": [
      "[[ 1  2  3  4  5  6]\n",
      " [ 7  8  9 10 11 12]]\n",
      "[[ 1  7]\n",
      " [ 2  8]\n",
      " [ 3  9]\n",
      " [ 4 10]\n",
      " [ 5 11]\n",
      " [ 6 12]]\n",
      "[[ 1  7]\n",
      " [ 2  8]\n",
      " [ 3  9]\n",
      " [ 4 10]\n",
      " [ 5 11]\n",
      " [ 6 12]]\n"
     ]
    }
   ],
   "source": [
    "#数组转置 行变成列列变成行\n",
    "a = np.arange(1,13).reshape(2,6)\n",
    "print(a)\n",
    "print(a.T)\n",
    "print(a.transpose())"
   ]
  },
  {
   "cell_type": "code",
   "execution_count": 170,
   "id": "de07bfed-2958-44fc-8e0e-23a90cbfb6ca",
   "metadata": {},
   "outputs": [
    {
     "name": "stdout",
     "output_type": "stream",
     "text": [
      "[1 2 3 4 5 6 7 8 9]\n",
      "[array([1, 2, 3]), array([4, 5, 6]), array([7, 8, 9])]\n",
      "-------------------\n",
      "[[ 0  1  2  3]\n",
      " [ 4  5  6  7]\n",
      " [ 8  9 10 11]\n",
      " [12 13 14 15]]\n",
      "[array([[0, 1, 2, 3],\n",
      "       [4, 5, 6, 7]]), array([[ 8,  9, 10, 11],\n",
      "       [12, 13, 14, 15]])]\n",
      "-------------------\n",
      "[array([[ 0,  1],\n",
      "       [ 4,  5],\n",
      "       [ 8,  9],\n",
      "       [12, 13]]), array([[ 2,  3],\n",
      "       [ 6,  7],\n",
      "       [10, 11],\n",
      "       [14, 15]])]\n"
     ]
    }
   ],
   "source": [
    "#数组切割 split  axis=1(竖切) axis=0(横切)\n",
    "#一维数组分割\n",
    "z = np.arange(1,10)\n",
    "print(z)\n",
    "z1 = np.split(z,3)\n",
    "print(z1)\n",
    "print(\"-------------------\")\n",
    "z2 = np.arange(16).reshape(4,4)\n",
    "print(z2)\n",
    "z3 = np.split(z2,2)\n",
    "print(z3)\n",
    "print(\"-------------------\")\n",
    "z4 = np.split(z2,2,axis=1)\n",
    "print(z4)"
   ]
  },
  {
   "cell_type": "code",
   "execution_count": 16,
   "id": "0ff5672d-0a6f-4a74-936a-691d9269be34",
   "metadata": {},
   "outputs": [
    {
     "name": "stdout",
     "output_type": "stream",
     "text": [
      "[[0. 1. 2.]\n",
      " [3. 4. 5.]\n",
      " [6. 7. 8.]]\n",
      "[1 2 3]\n",
      "[[1 2 3]\n",
      " [4 5 6]\n",
      " [7 8 9]]\n",
      "[[1 2 3]\n",
      " [4 5 6]]\n",
      "---------------------\n",
      "[[ 1.  3.  5.]\n",
      " [ 4.  6.  8.]\n",
      " [ 7.  9. 11.]]\n",
      "[[-1. -1. -1.]\n",
      " [ 2.  2.  2.]\n",
      " [ 5.  5.  5.]]\n",
      "[[ 0.  2.  6.]\n",
      " [ 3.  8. 15.]\n",
      " [ 6. 14. 24.]]\n",
      "[[0.         0.5        0.66666667]\n",
      " [3.         2.         1.66666667]\n",
      " [6.         3.5        2.66666667]]\n",
      "[[0. 1. 2.]\n",
      " [0. 0. 2.]\n",
      " [0. 1. 2.]]\n",
      "[[  0.   1.   8.]\n",
      " [  3.  16. 125.]\n",
      " [  6.  49. 512.]]\n",
      "---------------------\n",
      "[[ 1.  3.  5.]\n",
      " [ 7.  9. 11.]\n",
      " [13. 15. 17.]]\n",
      "[[-1. -1. -1.]\n",
      " [-1. -1. -1.]\n",
      " [-1. -1. -1.]]\n",
      "[[ 0.  2.  6.]\n",
      " [12. 20. 30.]\n",
      " [42. 56. 72.]]\n",
      "[[0.         0.5        0.66666667]\n",
      " [0.75       0.8        0.83333333]\n",
      " [0.85714286 0.875      0.88888889]]\n",
      "[[0. 1. 2.]\n",
      " [3. 4. 5.]\n",
      " [6. 7. 8.]]\n",
      "[[0.00000000e+00 1.00000000e+00 8.00000000e+00]\n",
      " [8.10000000e+01 1.02400000e+03 1.56250000e+04]\n",
      " [2.79936000e+05 5.76480100e+06 1.34217728e+08]]\n",
      "---------------------\n"
     ]
    }
   ],
   "source": [
    "import numpy as np\n",
    "#数学函数\n",
    "# + - * \\ % **\n",
    "a = np.arange(9,dtype=np.float64).reshape(3,3)\n",
    "print(a)\n",
    "b = np.array([1,2,3])\n",
    "c = np.array([[1,2,3],[4,5,6],[7,8,9]])\n",
    "d = np.array([[1,2,3],[4,5,6]])\n",
    "print(b)\n",
    "print(c)\n",
    "print(d)\n",
    "print(\"---------------------\")\n",
    "print(a+b)\n",
    "print(a-b)\n",
    "print(a*b)\n",
    "print(a/b)\n",
    "print(a%b)\n",
    "print(a**b) #幂运算\n",
    "print(\"---------------------\")\n",
    "\n",
    "print(a+c)\n",
    "print(a-c)\n",
    "print(a*c)\n",
    "print(a/c)\n",
    "print(a%c)\n",
    "print(a**c) #幂运算\n",
    "print(\"---------------------\")\n",
    "\n",
    "#(3,3)的数组不能和(2,3)的数组一起运算\n",
    "# print(a+d)\n",
    "# print(a-d)\n",
    "# print(a*d)\n",
    "# print(a/d)\n",
    "# print(a%d)\n",
    "# print(a**d) #幂运算\n"
   ]
  },
  {
   "cell_type": "code",
   "execution_count": 21,
   "id": "2bc13e13-ae3f-496f-befa-6e3f02570d54",
   "metadata": {},
   "outputs": [
    {
     "name": "stdout",
     "output_type": "stream",
     "text": [
      "[[1. 2. 3.]\n",
      " [4. 5. 6.]\n",
      " [7. 8. 9.]]\n",
      "[[ 1.  4.  9.]\n",
      " [16. 25. 36.]\n",
      " [49. 64. 81.]]\n",
      "[[1.         1.41421356 1.73205081]\n",
      " [2.         2.23606798 2.44948974]\n",
      " [2.64575131 2.82842712 3.        ]]\n"
     ]
    }
   ],
   "source": [
    "#平方和和开平方\n",
    "a = np.arange(1,10,dtype=np.float64).reshape(3,3)\n",
    "print(a)\n",
    "print(np.square(a))\n",
    "print(np.sqrt(a))"
   ]
  },
  {
   "cell_type": "code",
   "execution_count": 27,
   "id": "decb779b-45af-425e-ac89-457955f2c568",
   "metadata": {},
   "outputs": [
    {
     "name": "stdout",
     "output_type": "stream",
     "text": [
      "四舍五入，保留两位小数 [  1.     4.55 123.     0.57  25.53]\n",
      "四舍五入 [  1.   5. 123.   1.  26.]\n",
      "向上取整（天花板） [  1.   5. 123.   1.  26.]\n",
      "向下取整（地板） [  1.   4. 123.   0.  25.]\n"
     ]
    }
   ],
   "source": [
    "#对小数的处理\n",
    "#四舍五入\n",
    "# 天花板\n",
    "# 地板\n",
    "a = np.array([1.0,4.55,123.0,0.567,25.532])\n",
    "print('四舍五入，保留两位小数',np.around(a,2))\n",
    "print(\"四舍五入\",np.around(a))\n",
    "print(\"向上取整（天花板）\",np.ceil(a))\n",
    "print(\"向下取整（地板）\",np.floor(a))\n",
    "\n"
   ]
  },
  {
   "cell_type": "code",
   "execution_count": 55,
   "id": "e0346989-c7ee-465e-bb54-92894b834ebc",
   "metadata": {},
   "outputs": [
    {
     "name": "stdout",
     "output_type": "stream",
     "text": [
      "------最小值--------\n",
      "[[1 2 3]\n",
      " [4 5 6]\n",
      " [7 8 9]]\n",
      "1\n",
      "1\n",
      "[1 4 7]\n",
      "[1 2 3]\n",
      "------最大值--------\n",
      "9\n",
      "9\n",
      "[3 6 9]\n",
      "[7 8 9]\n",
      "------中位数--------\n",
      "[      1000       2000       3000      40000      50000     100000\n",
      "      20000 9999999999]\n",
      "30000.0\n",
      "2400.0\n",
      "62500.0\n",
      "------求和--------\n",
      "10000215999\n",
      "45\n",
      "------计数--------\n",
      "3\n",
      "2\n",
      "8\n",
      "9\n",
      "8\n",
      "-------标准差（数据的离散程度）--------\n",
      "[80 81 82 79 80]\n",
      "80.4\n",
      "[-0.4  0.6  1.6 -1.4 -0.4]\n",
      "1.019803902718557\n",
      "1.019803902718557\n"
     ]
    }
   ],
   "source": [
    "#统计函数\n",
    "# SQL\n",
    "# 最大值，最小值，平均数，求和，中位数，计数，标准差，方差\n",
    "\n",
    "\n",
    "#最小值\n",
    "a = np.array([[1,2,3],[4,5,6],[7,8,9]])\n",
    "#求全部数组的最小值\n",
    "#还是按行或者按列来求\n",
    "print(\"------最小值--------\")\n",
    "print(a)\n",
    "print(a.min())\n",
    "print(np.min(a))\n",
    "print(np.min(a,axis=1))#按行来求最小值\n",
    "print(np.min(a,axis=0))#按列来求最小值\n",
    "print(\"------最大值--------\")\n",
    "print(a.max())\n",
    "print(np.max(a))\n",
    "print(np.max(a,axis=1))#按行来求最大值\n",
    "print(np.max(a,axis=0))#按列来求最大值\n",
    "print(\"------中位数--------\")\n",
    "b = np.array([1000,2000,3000,40000,50000,100000,20000,9999999999])\n",
    "print(b)\n",
    "print(np.percentile(b,50))\n",
    "print(np.percentile(b,20))\n",
    "print(np.percentile(b,75))\n",
    "print(\"------求和--------\")\n",
    "print(b.sum())\n",
    "print(a.sum())\n",
    "print(\"------计数--------\")\n",
    "c = np.array([[1,2,3],[4,5,6]])\n",
    "print(len(a))#len()这个算法用在多维数组和size有区别的\n",
    "print(len(c))\n",
    "print(len(b))\n",
    "print(a.size)#这种方法可以算多维数组总共有多少个数\n",
    "print(b.size)\n",
    "\n",
    "print(\"-------标准差（数据的离散程度）--------\")\n",
    "s = np.array([80,81,82,79,80])\n",
    "print(s)\n",
    "print(np.mean(s))#求平均数\n",
    "print(s - np.mean(s))#求方差\n",
    "print(np.sqrt(np.mean((s - np.mean(s))**2)))#得到标准差\n",
    "print(np.std(s))#直接使用函数\n",
    "#得到的数据越小表明这组数据离散程度越低\n"
   ]
  },
  {
   "cell_type": "code",
   "execution_count": 61,
   "id": "c50167a4-80c8-4033-ba30-7c9e0914a9ae",
   "metadata": {},
   "outputs": [
    {
     "name": "stdout",
     "output_type": "stream",
     "text": [
      "[0 1 2]\n",
      "[5 6 7]\n",
      "[[ 1  2  3]\n",
      " [ 2  4  6]\n",
      " [11 22 33]]\n"
     ]
    }
   ],
   "source": [
    "#numpy广播机制 ：解决不同形状数组之间的算术运算问题（对数组进行水平或垂直方向的拉伸）\n",
    "a = np.array([0,1,2])\n",
    "print(a)\n",
    "print(a+5)# 实际是把实数5拉长成了[5,5,5]\n",
    "a = np.array([[0,0,0],[1,2,3],[10,20,30]])\n",
    "b = np.array([1,2,3])#实际是把[1,2,3]拉长成了[[1,2,3],[1,2,3],[1,2,3]]\n",
    "print(a+b) "
   ]
  },
  {
   "cell_type": "code",
   "execution_count": 63,
   "id": "110a1081-733a-4f01-b621-5d6852bd844c",
   "metadata": {},
   "outputs": [
    {
     "data": {
      "text/plain": [
       "array([ 5, 10, 20, 30, 50, 88])"
      ]
     },
     "execution_count": 63,
     "metadata": {},
     "output_type": "execute_result"
    }
   ],
   "source": [
    "#排序\n",
    "a = np.array([5,10,30,50,88,20])\n",
    "np.sort(a)"
   ]
  },
  {
   "cell_type": "code",
   "execution_count": 68,
   "id": "ba99477c-340f-4f65-90cf-be999cd2b73c",
   "metadata": {},
   "outputs": [
    {
     "name": "stdout",
     "output_type": "stream",
     "text": [
      "[[ 1  2 30]\n",
      " [45 67 88]]\n",
      "[[ True  True  True]\n",
      " [ True False False]]\n",
      "[ 1  2 30 45]\n"
     ]
    }
   ],
   "source": [
    "#比较掩码\n",
    "a = np.array([[1,2,30],[45,67,88]])\n",
    "print(a)\n",
    "print(a<60)\n",
    "print(a[a<60])"
   ]
  },
  {
   "cell_type": "code",
   "execution_count": 76,
   "id": "3e9365c8-43ba-484d-aad0-8dadfa00c386",
   "metadata": {},
   "outputs": [
    {
     "name": "stdout",
     "output_type": "stream",
     "text": [
      "[[ 1  2 30]\n",
      " [45 67 88]]\n",
      "[[ 1  2 30]\n",
      " [45 67 88]]\n",
      "[[45 67 88]]\n",
      "[[45 67 88]]\n",
      "[ 1 45]\n",
      "[ 2 67]\n",
      "[30 88]\n"
     ]
    }
   ],
   "source": [
    "#索引\n",
    "print(a[:])\n",
    "print(a[:2])\n",
    "print(a[1:])\n",
    "print(a[1:2])\n",
    "print(a[:,0])#拿到的是第一列\n",
    "print(a[:,1])#拿到的是第二列\n",
    "print(a[:,2])#拿到的是第三列"
   ]
  }
 ],
 "metadata": {
  "kernelspec": {
   "display_name": "Python 3 (ipykernel)",
   "language": "python",
   "name": "python3"
  },
  "language_info": {
   "codemirror_mode": {
    "name": "ipython",
    "version": 3
   },
   "file_extension": ".py",
   "mimetype": "text/x-python",
   "name": "python",
   "nbconvert_exporter": "python",
   "pygments_lexer": "ipython3",
   "version": "3.12.7"
  }
 },
 "nbformat": 4,
 "nbformat_minor": 5
}
