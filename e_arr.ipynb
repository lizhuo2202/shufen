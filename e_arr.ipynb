{
 "cells": [
  {
   "cell_type": "code",
   "execution_count": 1,
   "id": "8970cf63-9e63-426b-8869-315766f830f3",
   "metadata": {},
   "outputs": [],
   "source": [
    "import numpy as np\n"
   ]
  },
  {
   "cell_type": "code",
   "execution_count": 4,
   "id": "bdc7a954-d91b-4413-b5bd-0e736cba1ba5",
   "metadata": {},
   "outputs": [
    {
     "name": "stdout",
     "output_type": "stream",
     "text": [
      "<class 'list'>\n",
      "[1, 2, 3]\n"
     ]
    }
   ],
   "source": [
    "import numpy as np\n",
    "list1=[1,2,3]\n",
    "print(type(list1))\n",
    "print(list1)\n"
   ]
  },
  {
   "cell_type": "code",
   "execution_count": 5,
   "id": "2f3a5306-228f-4332-bffa-10bb7c1b70a3",
   "metadata": {},
   "outputs": [
    {
     "name": "stdout",
     "output_type": "stream",
     "text": [
      "<class 'numpy.ndarray'>\n",
      "[1 2 3]\n"
     ]
    }
   ],
   "source": [
    "arr1=np.array(list1)\n",
    "print(type(arr1))\n",
    "print(arr1)"
   ]
  },
  {
   "cell_type": "code",
   "execution_count": 9,
   "id": "d7c049b2-bc5d-4c07-86e6-f68eec64fb9e",
   "metadata": {},
   "outputs": [
    {
     "data": {
      "text/plain": [
       "array([1, 2, 3])"
      ]
     },
     "execution_count": 9,
     "metadata": {},
     "output_type": "execute_result"
    }
   ],
   "source": [
    "arr2=np.array(object=[1,2,3])#命名传参\n",
    "arr2"
   ]
  },
  {
   "cell_type": "code",
   "execution_count": 10,
   "id": "1da2fb1a-e81f-4c19-8504-628c39fd7c40",
   "metadata": {},
   "outputs": [
    {
     "data": {
      "text/plain": [
       "array([[1, 2, 3],\n",
       "       [4, 5, 6]])"
      ]
     },
     "execution_count": 10,
     "metadata": {},
     "output_type": "execute_result"
    }
   ],
   "source": [
    "arr3=np.array([[1,2,3],[4,5,6]])#位置传递传参\n",
    "arr3"
   ]
  },
  {
   "cell_type": "code",
   "execution_count": 12,
   "id": "3d6b973f-2f21-493d-8e0a-6506202fb2c6",
   "metadata": {},
   "outputs": [
    {
     "data": {
      "text/plain": [
       "array([1., 2., 3.])"
      ]
     },
     "execution_count": 12,
     "metadata": {},
     "output_type": "execute_result"
    }
   ],
   "source": [
    "arr4=np.array([1,2,3],dtype=float)\n",
    "arr4"
   ]
  },
  {
   "cell_type": "code",
   "execution_count": 21,
   "id": "9d8c5b24-cb6a-48cb-ae22-8c4d41f9078d",
   "metadata": {},
   "outputs": [
    {
     "name": "stdout",
     "output_type": "stream",
     "text": [
      "[1 2 3]\n",
      "[1 2 3]\n",
      "[[1 2 3]]\n",
      "[[[1 2 3]]]\n"
     ]
    }
   ],
   "source": [
    "arr5 = np.array([1.1,2.1,3.1],dtype=int,ndmin=0)\n",
    "print(arr5)\n",
    "arr6 = np.array([1.1,2.1,3.1],dtype=int,ndmin=1)\n",
    "print(arr6)\n",
    "arr7 = np.array([1.1,2.1,3.1],dtype=int,ndmin=2)#创建二维数组\n",
    "print(arr7)\n",
    "arr8 = np.array([1.1,2.1,3.1],dtype=int,ndmin=3)#创建三维数组\n",
    "print(arr8)"
   ]
  },
  {
   "cell_type": "code",
   "execution_count": 23,
   "id": "22273fff-0555-480b-955d-1cbf436f303a",
   "metadata": {},
   "outputs": [
    {
     "data": {
      "text/plain": [
       "array([[1, 2, 3]])"
      ]
     },
     "execution_count": 23,
     "metadata": {},
     "output_type": "execute_result"
    }
   ],
   "source": [
    "arr9 =np.array(arr7)\n",
    "arr7[0][1]=0\n",
    "arr9"
   ]
  },
  {
   "cell_type": "code",
   "execution_count": 27,
   "id": "ea95374a-c792-4121-961a-19c5b178c153",
   "metadata": {},
   "outputs": [
    {
     "name": "stdout",
     "output_type": "stream",
     "text": [
      "[[[1 2 4]]]\n",
      "[[[1 2 4]]]\n"
     ]
    }
   ],
   "source": [
    "arr10 =np.array(arr8,copy=False)\n",
    "arr8[0][0][2]=4\n",
    "print(arr10)\n",
    "print(arr8)"
   ]
  },
  {
   "cell_type": "code",
   "execution_count": 29,
   "id": "e50fa652-19aa-4656-abb7-f1571ca3a163",
   "metadata": {},
   "outputs": [
    {
     "data": {
      "text/plain": [
       "array([0, 1, 2, 3, 4, 5])"
      ]
     },
     "execution_count": 29,
     "metadata": {},
     "output_type": "execute_result"
    }
   ],
   "source": [
    "#np.arange(start,stop,step,dtype)\n",
    "#start起始值默认为0；stop终止值（不包含）；step步长（默认为1），dtype返回ndarray的数据类型（没有，则返回输入的类型）\n",
    "a1=np.arange(0,6,1,dtype=int)\n",
    "a1"
   ]
  },
  {
   "cell_type": "code",
   "execution_count": 37,
   "id": "e73ba788-2eab-4bbf-99fe-82667581dbb1",
   "metadata": {},
   "outputs": [
    {
     "data": {
      "text/plain": [
       "array([0.11602019, 0.56728562, 0.88527707])"
      ]
     },
     "execution_count": 37,
     "metadata": {},
     "output_type": "execute_result"
    }
   ],
   "source": [
    "#使用random创建随机数数组\n",
    "ar = np.random.random(size=3)#创建3个0到1的浮点数（包前不包后，不会产生1，但能产生0）\n",
    "ar"
   ]
  },
  {
   "cell_type": "code",
   "execution_count": 36,
   "id": "c9c41137-3aa0-4897-988d-5025d4b0a1a2",
   "metadata": {},
   "outputs": [
    {
     "name": "stdout",
     "output_type": "stream",
     "text": [
      "[[0.77803994 0.22296891 0.00262313]\n",
      " [0.32913817 0.57224986 0.55562607]]\n",
      "[[7 2 0]\n",
      " [3 5 5]]\n"
     ]
    }
   ],
   "source": [
    "ar1 = np.random.random(size=(2,3))#创建两行三列随机数数组\n",
    "print(ar1)\n",
    "print((ar1*10).astype(int))#设定类型为int，范围为1到10"
   ]
  },
  {
   "cell_type": "code",
   "execution_count": 43,
   "id": "1cd93b7f-4355-4596-9555-cf3ffebc36be",
   "metadata": {},
   "outputs": [
    {
     "data": {
      "text/plain": [
       "array([1, 3, 2, 3, 1, 3])"
      ]
     },
     "execution_count": 43,
     "metadata": {},
     "output_type": "execute_result"
    }
   ],
   "source": [
    "#生成指定范围的整数随机数数组\n",
    "ar2 = np.random.randint(1,4,6)#生成6个1到3的随机数\n",
    "ar2"
   ]
  },
  {
   "cell_type": "code",
   "execution_count": 108,
   "id": "c7bbc622-2ed7-45da-8708-55f57de90743",
   "metadata": {},
   "outputs": [
    {
     "name": "stdout",
     "output_type": "stream",
     "text": [
      "[4 1]\n",
      "[0.979445   0.08982104 0.39673661 0.35413804 0.486638   0.99082093\n",
      " 0.80828168 0.64945888]\n"
     ]
    }
   ],
   "source": [
    "#随机数种子seed,为0则每次运行随机数不变\n",
    "np.random.seed(5)\n",
    "print(np.random.randint(1,6,2))\n",
    "print(np.random.random(size=8))\n",
    "\n",
    "# np.random.seed(0)\n",
    "# print(np.random.randint(1,4,2))\n"
   ]
  },
  {
   "cell_type": "code",
   "execution_count": 109,
   "id": "085927ca-309f-4dcf-9337-781c017ca3da",
   "metadata": {},
   "outputs": [
    {
     "name": "stdout",
     "output_type": "stream",
     "text": [
      "(5,)\n",
      "(2, 3)\n",
      "5\n",
      "int32\n",
      "1\n"
     ]
    }
   ],
   "source": [
    "a1 = np.random.randint(1,10,5)\n",
    "a2 = np.random.randint(1,10,size=(2,3))\n",
    "print(a1.shape)#形状\n",
    "print(a2.shape)#形状\n",
    "\n",
    "print(a1.size)#大小\n",
    "print(a1.dtype)#类型\n",
    "print(a1.ndim)#几维数组"
   ]
  },
  {
   "cell_type": "code",
   "execution_count": 121,
   "id": "08e77653-31a4-40ec-8811-0e10047ff941",
   "metadata": {},
   "outputs": [
    {
     "name": "stdout",
     "output_type": "stream",
     "text": [
      "[5 6 1 4 4 4 2 4]\n",
      "[5 6 1 4 4 4 2 4]\n",
      "[6 1 4]\n",
      "[5 1 4 2]\n"
     ]
    }
   ],
   "source": [
    "#切片\n",
    "np.random.seed(0)\n",
    "a3 = np.random.randint(1,8,8)\n",
    "print(a3)\n",
    "print(a3[:])\n",
    "print(a3[1:4])\n",
    "print(a3[0::2])#起始终点步长\n"
   ]
  },
  {
   "cell_type": "code",
   "execution_count": 124,
   "id": "1c29f894-7c23-4fe9-8ad8-431bc6a625e9",
   "metadata": {},
   "outputs": [
    {
     "name": "stdout",
     "output_type": "stream",
     "text": [
      "[[5 6 1]\n",
      " [4 4 4]]\n",
      "[[   5    6 1000]\n",
      " [   4    4    4]]\n"
     ]
    }
   ],
   "source": [
    "np.random.seed(0)\n",
    "a4 = np.random.randint(1,8,size=(2,3))\n",
    "print(a4)\n",
    "a4[0][2]=1000\n",
    "print(a4)\n"
   ]
  },
  {
   "cell_type": "code",
   "execution_count": 135,
   "id": "7d23381b-8f55-4170-a854-32b0ca7d486b",
   "metadata": {},
   "outputs": [
    {
     "name": "stdout",
     "output_type": "stream",
     "text": [
      "[ 0  1  2  3  4  5  6  7  8  9 10 11 12 13 14 15 16 17 18 19 20 21 22 23]\n",
      "[[[ 0  1  2  3]\n",
      "  [ 4  5  6  7]\n",
      "  [ 8  9 10 11]]\n",
      "\n",
      " [[12 13 14 15]\n",
      "  [16 17 18 19]\n",
      "  [20 21 22 23]]]\n"
     ]
    }
   ],
   "source": [
    "#对数组进行升维和降维\n",
    "num = np.arange(24)\n",
    "print(num)\n",
    "num1 = num.reshape(2,3,4)#需要计算\n",
    "\n",
    "# reshape的三个参数：\n",
    "# 第一个：将大盒子分成2块\n",
    "# 第二个：将每一块分成三份\n",
    "# 第三个：每一份有4个\n",
    "# （需要计算，不能随便写）\n",
    "\n",
    "print(num1)"
   ]
  },
  {
   "cell_type": "code",
   "execution_count": 134,
   "id": "4d40619a-2dd2-4a99-b113-3325e369b888",
   "metadata": {},
   "outputs": [
    {
     "name": "stdout",
     "output_type": "stream",
     "text": [
      "[ 0  1  2  3  4  5  6  7  8  9 10 11 12 13 14 15 16 17 18 19 20 21 22 23]\n"
     ]
    }
   ],
   "source": [
    "#降维操作\n",
    "num2 = num1.reshape(-1)\n",
    "print(num2)\n"
   ]
  },
  {
   "cell_type": "code",
   "execution_count": 147,
   "id": "42b4cd49-2393-481e-b517-06355056f261",
   "metadata": {},
   "outputs": [
    {
     "name": "stdout",
     "output_type": "stream",
     "text": [
      "[0 1 2 3 4 5]\n",
      "--------------\n",
      "[[1 2 3]\n",
      " [4 5 6]]\n",
      "[[10 20 30]\n",
      " [40 50 60]]\n",
      "[[ 1  2  3]\n",
      " [ 4  5  6]\n",
      " [10 20 30]\n",
      " [40 50 60]]\n",
      "[[ 1  2  3 10 20 30]\n",
      " [ 4  5  6 40 50 60]]\n",
      "--------------\n",
      "[[ 1  2  3]\n",
      " [ 4  5  6]\n",
      " [10 20 30]\n",
      " [40 50 60]]\n",
      "[[ 1  2  3 10 20 30]\n",
      " [ 4  5  6 40 50 60]]\n"
     ]
    }
   ],
   "source": [
    "#数组的拼接\n",
    "x1 = np.arange(3)\n",
    "y1 = np.arange(3,6)\n",
    "print(np.concatenate([x1,y1]))\n",
    "print(\"--------------\")\n",
    "x = np.array([[1,2,3],[4,5,6]])\n",
    "y = np.array([[10,20,30],[40,50,60]])\n",
    "print(x)\n",
    "print(y)\n",
    "print(np.concatenate([x,y]))#直接竖向拼接\n",
    "print(np.concatenate([x,y],axis=1))#横向拼接\n",
    "print(\"--------------\")\n",
    "print(np.vstack([x,y]))#直接竖向拼接\n",
    "print(np.hstack([x,y]))#横向拼接"
   ]
  },
  {
   "cell_type": "code",
   "execution_count": 152,
   "id": "eede264b-260c-4c78-9977-e14513198067",
   "metadata": {},
   "outputs": [
    {
     "name": "stdout",
     "output_type": "stream",
     "text": [
      "[[ 1  2  3  4  5  6]\n",
      " [ 7  8  9 10 11 12]]\n",
      "[[ 1  7]\n",
      " [ 2  8]\n",
      " [ 3  9]\n",
      " [ 4 10]\n",
      " [ 5 11]\n",
      " [ 6 12]]\n",
      "[[ 1  7]\n",
      " [ 2  8]\n",
      " [ 3  9]\n",
      " [ 4 10]\n",
      " [ 5 11]\n",
      " [ 6 12]]\n"
     ]
    }
   ],
   "source": [
    "#数组转置 行变成列列变成行\n",
    "a = np.arange(1,13).reshape(2,6)\n",
    "print(a)\n",
    "print(a.T)\n",
    "print(a.transpose())"
   ]
  },
  {
   "cell_type": "code",
   "execution_count": 170,
   "id": "de07bfed-2958-44fc-8e0e-23a90cbfb6ca",
   "metadata": {},
   "outputs": [
    {
     "name": "stdout",
     "output_type": "stream",
     "text": [
      "[1 2 3 4 5 6 7 8 9]\n",
      "[array([1, 2, 3]), array([4, 5, 6]), array([7, 8, 9])]\n",
      "-------------------\n",
      "[[ 0  1  2  3]\n",
      " [ 4  5  6  7]\n",
      " [ 8  9 10 11]\n",
      " [12 13 14 15]]\n",
      "[array([[0, 1, 2, 3],\n",
      "       [4, 5, 6, 7]]), array([[ 8,  9, 10, 11],\n",
      "       [12, 13, 14, 15]])]\n",
      "-------------------\n",
      "[array([[ 0,  1],\n",
      "       [ 4,  5],\n",
      "       [ 8,  9],\n",
      "       [12, 13]]), array([[ 2,  3],\n",
      "       [ 6,  7],\n",
      "       [10, 11],\n",
      "       [14, 15]])]\n"
     ]
    }
   ],
   "source": [
    "#数组切割 split  axis=1(竖切) axis=0(横切)\n",
    "#一维数组分割\n",
    "z = np.arange(1,10)\n",
    "print(z)\n",
    "z1 = np.split(z,3)\n",
    "print(z1)\n",
    "print(\"-------------------\")\n",
    "z2 = np.arange(16).reshape(4,4)\n",
    "print(z2)\n",
    "z3 = np.split(z2,2)\n",
    "print(z3)\n",
    "print(\"-------------------\")\n",
    "z4 = np.split(z2,2,axis=1)\n",
    "print(z4)"
   ]
  }
 ],
 "metadata": {
  "kernelspec": {
   "display_name": "Python 3 (ipykernel)",
   "language": "python",
   "name": "python3"
  },
  "language_info": {
   "codemirror_mode": {
    "name": "ipython",
    "version": 3
   },
   "file_extension": ".py",
   "mimetype": "text/x-python",
   "name": "python",
   "nbconvert_exporter": "python",
   "pygments_lexer": "ipython3",
   "version": "3.12.7"
  }
 },
 "nbformat": 4,
 "nbformat_minor": 5
}
