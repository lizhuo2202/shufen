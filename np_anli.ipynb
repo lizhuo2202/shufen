{
 "cells": [
  {
   "cell_type": "code",
   "execution_count": 41,
   "id": "b6f4e179-9f35-44a3-b3e4-cd9122082759",
   "metadata": {},
   "outputs": [
    {
     "name": "stdout",
     "output_type": "stream",
     "text": [
      "[[ 1 80 75 90]\n",
      " [ 2 90 85 88]\n",
      " [ 3 70 75 78]\n",
      " [ 4 85 80 95]\n",
      " [ 5 95 90 85]]\n",
      "------第一题-------\n",
      "语文平均分： 84.0\n",
      "数学平均分： 81.0\n",
      "英语平均分： 87.2\n",
      "------第二题-------\n",
      "语文最高分： 95\n",
      "数学最高分： 90\n",
      "英语最高分： 95\n",
      "语文最低分： 70\n",
      "数学最低分： 75\n",
      "英语最低分： 78\n",
      "------第三题-------\n",
      "总分从低到高： [405 420 436]\n",
      "总分从高到低： [436 420 405]\n",
      "------第四题-------\n",
      "[[ 2 90 85 88]\n",
      " [ 5 95 90 85]]\n"
     ]
    }
   ],
   "source": [
    "import numpy as np\n",
    "#1.案例背景:分析学生成绩数据\n",
    "# 假设我们有一份学生成绩数据，包含学生的学号、语文成绩、数学成绩和英语成绩。\n",
    "# 我们的目标是通过numpy进行数据分析，包括计算平均分、最高分、最低分、成绩的标准差等统计指标，以及对成绩进行排序和筛选。\n",
    "# 首先，我们创建一个numpy数组来存储学生成绩数据。为了方便演示，我们手动创建一个小型的数据集。\n",
    "#学生成绩数据，每一行代表一个学生列分别是学号语文数学英语成绩\n",
    "data = np.array([[1,80,75,90],[2,90,85,88],[3,70,75,78],[4,85,80,95],[5,95,90,85]])\n",
    "#1.计算各科平均分\n",
    "#2.计算各科的最高分和最低分\n",
    "# 3.按照总分对学生进行排序\n",
    "# 4.筛选出数学成绩大于80分的学生\n",
    "print(data)\n",
    "print(\"------第一题-------\")\n",
    "a1 = np.mean(data[:,1])\n",
    "# a = data[:,1].mean()\n",
    "print(\"语文平均分：\",a1)\n",
    "a2 = np.mean(data[:,2])\n",
    "# a = data[:,2].mean()\n",
    "print(\"数学平均分：\",a2)\n",
    "a3 = np.mean(data[:,3])\n",
    "# a = data[:,1].mean()\n",
    "print(\"英语平均分：\",a3)\n",
    "print(\"------第二题-------\")\n",
    "b1 = np.max(data[:,1])\n",
    "print(\"语文最高分：\",b1)\n",
    "b2 = np.max(data[:,2])\n",
    "print(\"数学最高分：\",b2)\n",
    "b3 = np.max(data[:,3])\n",
    "print(\"英语最高分：\",b3)\n",
    "b4 = np.min(data[:,1])\n",
    "print(\"语文最低分：\",b4)\n",
    "b5 = np.min(data[:,2])\n",
    "print(\"数学最低分：\",b5)\n",
    "b6 = np.min(data[:,3])\n",
    "print(\"英语最低分：\",b6)\n",
    "print(\"------第三题-------\")\n",
    "c1 = np.sum(data[:,1])\n",
    "c2 = np.sum(data[:,2])\n",
    "c3 = np.sum(data[:,3])\n",
    "print(\"总分从低到高：\",np.sort([c1,c2,c3]))\n",
    "print(\"总分从高到低：\",np.sort([c1,c2,c3])[::-1])#逆序\n",
    "print(\"------第四题-------\")\n",
    "print(data[data[:,2]>80])"
   ]
  },
  {
   "cell_type": "code",
   "execution_count": null,
   "id": "392845c6-cdff-455f-b8a8-3da307e2d97f",
   "metadata": {},
   "outputs": [],
   "source": []
  }
 ],
 "metadata": {
  "kernelspec": {
   "display_name": "Python 3 (ipykernel)",
   "language": "python",
   "name": "python3"
  },
  "language_info": {
   "codemirror_mode": {
    "name": "ipython",
    "version": 3
   },
   "file_extension": ".py",
   "mimetype": "text/x-python",
   "name": "python",
   "nbconvert_exporter": "python",
   "pygments_lexer": "ipython3",
   "version": "3.12.7"
  }
 },
 "nbformat": 4,
 "nbformat_minor": 5
}
